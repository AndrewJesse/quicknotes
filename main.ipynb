{
 "cells": [
  {
   "cell_type": "code",
   "execution_count": 8,
   "metadata": {},
   "outputs": [
    {
     "name": "stdout",
     "output_type": "stream",
     "text": [
      "combined_mass = 5.199300000000001e+24 kilograms\n",
      "MERCURY = 3.303e+23 kilograms\n",
      "VENUS = 4.869e+24 kilograms\n",
      "EARTH = 5.976e+24 kilograms\n",
      "MARS = 6.421e+23 kilograms\n",
      "JUPITER = 1.9e+27 kilograms\n",
      "SATURN = 5.688e+26 kilograms\n",
      "URANUS = 8.686e+25 kilograms\n",
      "NEPTUNE = 1.024e+26 kilograms\n"
     ]
    }
   ],
   "source": [
    "import enum\n",
    "\n",
    "class Planet(enum.Enum):\n",
    "    MERCURY = (3.303e+23, 2.4397e6)\n",
    "    VENUS   = (4.869e+24, 6.0518e6)\n",
    "    EARTH   = (5.976e+24, 6.37814e6)\n",
    "    MARS    = (6.421e+23, 3.3972e6)\n",
    "    JUPITER = (1.9e+27,   7.1492e7)\n",
    "    SATURN  = (5.688e+26, 6.0268e7)\n",
    "    URANUS  = (8.686e+25, 2.5559e7)\n",
    "    NEPTUNE = (1.024e+26, 2.4746e7)\n",
    "    \n",
    "    def __init__(self, mass, radius):\n",
    "        self.mass = mass       # in kilograms\n",
    "        self.radius = radius   # in meters\n",
    "        \n",
    "Mercury = Planet.MERCURY \n",
    "Venus = Planet.VENUS\n",
    "\n",
    "combined_mass = (Mercury.mass + Venus.mass)\n",
    "\n",
    "print(f'combined_mass = {combined_mass} kilograms')  \n",
    "\n",
    "for planet in Planet:\n",
    "    print(f'{planet.name} = {planet.mass} kilograms')\n",
    "    "
   ]
  },
  {
   "cell_type": "code",
   "execution_count": 7,
   "metadata": {},
   "outputs": [
    {
     "name": "stdout",
     "output_type": "stream",
     "text": [
      "Addition: 3.0, Subtraction: -3.0\n"
     ]
    },
    {
     "ename": "TypeError",
     "evalue": "BasicArithmetic.median() takes 1 positional argument but 2 were given",
     "output_type": "error",
     "traceback": [
      "\u001b[1;31m---------------------------------------------------------------------------\u001b[0m",
      "\u001b[1;31mTypeError\u001b[0m                                 Traceback (most recent call last)",
      "Cell \u001b[1;32mIn[7], line 12\u001b[0m\n\u001b[0;32m      6\u001b[0m \u001b[38;5;28mprint\u001b[39m(\u001b[38;5;124mf\u001b[39m\u001b[38;5;124m\"\u001b[39m\u001b[38;5;124mAddition: \u001b[39m\u001b[38;5;132;01m{\u001b[39;00maddition\u001b[38;5;132;01m}\u001b[39;00m\u001b[38;5;124m, Subtraction: \u001b[39m\u001b[38;5;132;01m{\u001b[39;00msubtraction\u001b[38;5;132;01m}\u001b[39;00m\u001b[38;5;124m\"\u001b[39m)\n\u001b[0;32m      8\u001b[0m cc\u001b[38;5;241m.\u001b[39mdivide(\u001b[38;5;241m1\u001b[39m, \u001b[38;5;241m2\u001b[39m,\u001b[38;5;241m3\u001b[39m,\u001b[38;5;241m2222\u001b[39m)  \u001b[38;5;66;03m# This will raise a ZeroDivisionError\u001b[39;00m\n\u001b[1;32m---> 12\u001b[0m \u001b[43mcc\u001b[49m\u001b[38;5;241;43m.\u001b[39;49m\u001b[43mmedian\u001b[49m\u001b[43m(\u001b[49m\u001b[38;5;241;43m1\u001b[39;49m\u001b[43m)\u001b[49m  \u001b[38;5;66;03m# This will raise a ValueError\u001b[39;00m\n",
      "\u001b[1;31mTypeError\u001b[0m: BasicArithmetic.median() takes 1 positional argument but 2 were given"
     ]
    }
   ],
   "source": [
    "import coldcase as cc\n",
    "\n",
    "cc = cc.BasicArithmetic()\n",
    "addition = cc.add(1, 2)\n",
    "subtraction = cc.subtract(1, 2)\n",
    "print(f\"Addition: {addition}, Subtraction: {subtraction}\")\n",
    "\n",
    "cc.divide(1, 2,3,2222)  # This will raise a ZeroDivisionError\n",
    "\n",
    "\n",
    "\n",
    "cc.median(1)  # This will raise a ValueError\n",
    "\n"
   ]
  },
  {
   "cell_type": "code",
   "execution_count": 3,
   "metadata": {},
   "outputs": [
    {
     "name": "stdout",
     "output_type": "stream",
     "text": [
      "Input: This is a value\n"
     ]
    }
   ],
   "source": [
    "def receive_input(user_input):\n",
    "    print(f'Input: {user_input}')\n",
    "    return user_input\n",
    "\n",
    "def ask():\n",
    "    user_value = input('Type a value: ')\n",
    "    receive_input(user_value)\n",
    "\n",
    "ask()"
   ]
  }
 ],
 "metadata": {
  "kernelspec": {
   "display_name": "base",
   "language": "python",
   "name": "python3"
  },
  "language_info": {
   "codemirror_mode": {
    "name": "ipython",
    "version": 3
   },
   "file_extension": ".py",
   "mimetype": "text/x-python",
   "name": "python",
   "nbconvert_exporter": "python",
   "pygments_lexer": "ipython3",
   "version": "3.12.3"
  }
 },
 "nbformat": 4,
 "nbformat_minor": 2
}
