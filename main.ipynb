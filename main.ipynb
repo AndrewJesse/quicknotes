{
 "cells": [
  {
   "cell_type": "code",
   "execution_count": 8,
   "metadata": {},
   "outputs": [
    {
     "name": "stdout",
     "output_type": "stream",
     "text": [
      "combined_mass = 5.199300000000001e+24 kilograms\n",
      "MERCURY = 3.303e+23 kilograms\n",
      "VENUS = 4.869e+24 kilograms\n",
      "EARTH = 5.976e+24 kilograms\n",
      "MARS = 6.421e+23 kilograms\n",
      "JUPITER = 1.9e+27 kilograms\n",
      "SATURN = 5.688e+26 kilograms\n",
      "URANUS = 8.686e+25 kilograms\n",
      "NEPTUNE = 1.024e+26 kilograms\n"
     ]
    }
   ],
   "source": [
    "import enum\n",
    "\n",
    "class Planet(enum.Enum):\n",
    "    MERCURY = (3.303e+23, 2.4397e6)\n",
    "    VENUS   = (4.869e+24, 6.0518e6)\n",
    "    EARTH   = (5.976e+24, 6.37814e6)\n",
    "    MARS    = (6.421e+23, 3.3972e6)\n",
    "    JUPITER = (1.9e+27,   7.1492e7)\n",
    "    SATURN  = (5.688e+26, 6.0268e7)\n",
    "    URANUS  = (8.686e+25, 2.5559e7)\n",
    "    NEPTUNE = (1.024e+26, 2.4746e7)\n",
    "    \n",
    "    def __init__(self, mass, radius):\n",
    "        self.mass = mass       # in kilograms\n",
    "        self.radius = radius   # in meters\n",
    "        \n",
    "Mercury = Planet.MERCURY \n",
    "Venus = Planet.VENUS\n",
    "\n",
    "combined_mass = (Mercury.mass + Venus.mass)\n",
    "\n",
    "print(f'combined_mass = {combined_mass} kilograms')  \n",
    "\n",
    "for planet in Planet:\n",
    "    print(f'{planet.name} = {planet.mass} kilograms')\n",
    "    "
   ]
  },
  {
   "cell_type": "code",
   "execution_count": 4,
   "metadata": {},
   "outputs": [
    {
     "name": "stdout",
     "output_type": "stream",
     "text": [
      "Addition: 3.0, Subtraction: -3.0\n"
     ]
    }
   ],
   "source": [
    "import coldcase as cc\n",
    "\n",
    "cc = cc.BasicArithmetic()\n",
    "addition = cc.add(1, 2)\n",
    "subtraction = cc.subtract(1, 2)\n",
    "print(f\"Addition: {addition}, Subtraction: {subtraction}\")\n",
    "\n",
    "\n"
   ]
  }
 ],
 "metadata": {
  "kernelspec": {
   "display_name": "base",
   "language": "python",
   "name": "python3"
  },
  "language_info": {
   "codemirror_mode": {
    "name": "ipython",
    "version": 3
   },
   "file_extension": ".py",
   "mimetype": "text/x-python",
   "name": "python",
   "nbconvert_exporter": "python",
   "pygments_lexer": "ipython3",
   "version": "3.12.3"
  }
 },
 "nbformat": 4,
 "nbformat_minor": 2
}
